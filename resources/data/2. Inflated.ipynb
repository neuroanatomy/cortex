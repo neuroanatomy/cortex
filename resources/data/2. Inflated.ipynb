{
 "cells": [
  {
   "cell_type": "code",
   "execution_count": 1,
   "metadata": {},
   "outputs": [],
   "source": [
    "import numpy as np\n",
    "import igl"
   ]
  },
  {
   "cell_type": "code",
   "execution_count": 75,
   "metadata": {},
   "outputs": [],
   "source": [
    "%%bash\n",
    "m=~/Applications/meshgeometry/meshgeometry_mac\n",
    "$m -iformat pial -i /Applications/_Neuro/freesurfer/subjects/fsaverage/surf/lh.inflated -o lh.inflated.ply\n",
    "$m -iformat pial -i /Applications/_Neuro/freesurfer/subjects/fsaverage/surf/rh.inflated -o rh.inflated.ply"
   ]
  },
  {
   "cell_type": "code",
   "execution_count": 90,
   "metadata": {},
   "outputs": [],
   "source": [
    "vw,fw=igl.read_triangle_mesh(\"./lrh.ply\")\n",
    "vl,fl=igl.read_triangle_mesh(\"./lh.inflated.ply\")\n",
    "vr,fr=igl.read_triangle_mesh(\"./rh.inflated.ply\")"
   ]
  },
  {
   "cell_type": "code",
   "execution_count": 91,
   "metadata": {},
   "outputs": [],
   "source": [
    "vl = vl - np.array([39,0,0])\n",
    "vr = vr + np.array([39,0,0])"
   ]
  },
  {
   "cell_type": "code",
   "execution_count": 92,
   "metadata": {},
   "outputs": [],
   "source": [
    "f=open(\"lh.corr.txt\")\n",
    "tmp=f.read().split(\"\\n\")\n",
    "f.close()\n",
    "ltmp = [x.split(\" \") for x in tmp[:-1]]\n",
    "\n",
    "f=open(\"rh.corr.txt\")\n",
    "tmp=f.read().split(\"\\n\")\n",
    "f.close()\n",
    "rtmp = [x.split(\" \") for x in tmp[:-1]]"
   ]
  },
  {
   "cell_type": "code",
   "execution_count": 93,
   "metadata": {},
   "outputs": [],
   "source": [
    "lut = -1*np.ones((len(ltmp)+len(rtmp),2), dtype=np.int)\n",
    "for row in ltmp:\n",
    "    if row[1] != 'NA':\n",
    "        hindex = int(row[0])\n",
    "        windex = int(row[1])\n",
    "        lut[windex,0] = hindex\n",
    "        lut[windex,1] = 1\n",
    "for row in rtmp:\n",
    "    if row[1] != 'NA':\n",
    "        hindex = int(row[0])\n",
    "        windex = int(row[1])\n",
    "        lut[windex,0] = hindex\n",
    "        lut[windex,1] = 2"
   ]
  },
  {
   "cell_type": "code",
   "execution_count": 94,
   "metadata": {},
   "outputs": [
    {
     "name": "stdout",
     "output_type": "stream",
     "text": [
      "0 non assigned faces\n"
     ]
    }
   ],
   "source": [
    "fi = []\n",
    "nonAssignedCount = 0\n",
    "for f in fw:\n",
    "    if lut[f[0],0] > -1 and lut[f[1],0] > -1 and lut[f[2],0] > -1:\n",
    "        fi.append(f)\n",
    "    else:\n",
    "        nonAssignedCount+=1\n",
    "fi=np.array(fi);\n",
    "print(nonAssignedCount, \"non assigned faces\")"
   ]
  },
  {
   "cell_type": "code",
   "execution_count": 95,
   "metadata": {},
   "outputs": [],
   "source": [
    "vi = np.zeros(vw.shape)\n",
    "for i in range(len(vw)):\n",
    "    hem = lut[i,1]\n",
    "    ind = lut[i,0]\n",
    "    if hem == 1:\n",
    "        vi[i,:] = vl[ind,:]\n",
    "    elif hem ==2:\n",
    "        vi[i,:] = vr[ind,:]"
   ]
  },
  {
   "cell_type": "code",
   "execution_count": 96,
   "metadata": {},
   "outputs": [
    {
     "data": {
      "text/plain": [
       "True"
      ]
     },
     "execution_count": 96,
     "metadata": {},
     "output_type": "execute_result"
    }
   ],
   "source": [
    "igl.write_triangle_mesh(\"lrh.inflated.ply\",vi,fi)"
   ]
  },
  {
   "cell_type": "code",
   "execution_count": null,
   "metadata": {},
   "outputs": [],
   "source": []
  }
 ],
 "metadata": {
  "kernelspec": {
   "display_name": "Python 3",
   "language": "python",
   "name": "python3"
  },
  "language_info": {
   "codemirror_mode": {
    "name": "ipython",
    "version": 3
   },
   "file_extension": ".py",
   "mimetype": "text/x-python",
   "name": "python",
   "nbconvert_exporter": "python",
   "pygments_lexer": "ipython3",
   "version": "3.7.5"
  }
 },
 "nbformat": 4,
 "nbformat_minor": 2
}
