{
 "cells": [
  {
   "cell_type": "markdown",
   "metadata": {},
   "source": [
    "# Rebuild a 3-D brain\n",
    "\n",
    "Roberto Toro, April 2020\n",
    "\n",
    "Long time ago, in 2013, I made a whole-brain version of the freesurfer average by sticking together its left and right hemispheres. I then converted this model to a sphere and flattened it using a polar stereographic projection. This projection introduces large deformations in the pole that becomes the outter disc. I then removed that part, and slightly displaced the vertices to avoid a jagged edge.\n",
    "\n",
    "However, years passed and I don't have the original 3-D version of this mesh anymore, only the flat version. I also have a look-up table for mapping vertices in the left or right fsaverage meshes into the flat projection.\n",
    "\n",
    "Here I use those look-up tables to rebuild a 3-D brain."
   ]
  },
  {
   "cell_type": "code",
   "execution_count": 58,
   "metadata": {},
   "outputs": [],
   "source": [
    "import numpy as np\n",
    "import igl"
   ]
  },
  {
   "cell_type": "markdown",
   "metadata": {},
   "source": [
    "First, convert fsaverage's left and right meshes to ply format:"
   ]
  },
  {
   "cell_type": "code",
   "execution_count": 8,
   "metadata": {},
   "outputs": [],
   "source": [
    "%%bash\n",
    "m=~/Applications/meshgeometry/meshgeometry_mac\n",
    "$m -i /Applications/_Neuro/freesurfer/subjects/fsaverage/surf/lh.pial -o lh.ply\n",
    "$m -i /Applications/_Neuro/freesurfer/subjects/fsaverage/surf/rh.pial -o rh.ply"
   ]
  },
  {
   "cell_type": "markdown",
   "metadata": {},
   "source": [
    "Load those meshes and load the flat brain:"
   ]
  },
  {
   "cell_type": "code",
   "execution_count": 62,
   "metadata": {},
   "outputs": [],
   "source": [
    "vf,ff=igl.read_triangle_mesh(\"./flat4.ply\")\n",
    "vl,fl=igl.read_triangle_mesh(\"./lh.ply\")\n",
    "vr,fr=igl.read_triangle_mesh(\"./rh.ply\")"
   ]
  },
  {
   "cell_type": "markdown",
   "metadata": {},
   "source": [
    "Load and parse the look-up tables for the left and right hemispheres. Each row in these files provides the correspondance for a vertex in the hemispherical mesh (first column) to the mesh in the flat brain (second column):"
   ]
  },
  {
   "cell_type": "code",
   "execution_count": 67,
   "metadata": {},
   "outputs": [],
   "source": [
    "f=open(\"lh.corr.txt\")\n",
    "tmp=f.read().split(\"\\n\")\n",
    "f.close()\n",
    "ltmp = [x.split(\" \") for x in tmp[:-1]]\n",
    "\n",
    "f=open(\"rh.corr.txt\")\n",
    "tmp=f.read().split(\"\\n\")\n",
    "f.close()\n",
    "rtmp = [x.split(\" \") for x in tmp[:-1]]"
   ]
  },
  {
   "cell_type": "markdown",
   "metadata": {},
   "source": [
    "Allocate space for the complete look-up table, combining both hemispheres. In this look-up table each row corresponds to a vertex in the final whole-brain mesh. The first column gives the index of the corresponding mesh in the hemispheric meshes, and the 2nd column value is 1 for the left hemisphere and 2 for the right hemisphere.\n",
    "I initialise the look-up table to -1, to be able to detect non-assigned vertices."
   ]
  },
  {
   "cell_type": "code",
   "execution_count": 79,
   "metadata": {},
   "outputs": [],
   "source": [
    "lut = -1*np.ones((len(ltmp)+len(rtmp),2), dtype=np.int)"
   ]
  },
  {
   "cell_type": "code",
   "execution_count": 80,
   "metadata": {},
   "outputs": [],
   "source": [
    "for row in ltmp:\n",
    "    if row[1] != 'NA':\n",
    "        hindex = int(row[0])\n",
    "        windex = int(row[1])\n",
    "        lut[windex,0] = hindex\n",
    "        lut[windex,1] = 1\n",
    "for row in rtmp:\n",
    "    if row[1] != 'NA':\n",
    "        hindex = int(row[0])\n",
    "        windex = int(row[1])\n",
    "        lut[windex,0] = hindex\n",
    "        lut[windex,1] = 2      "
   ]
  },
  {
   "cell_type": "markdown",
   "metadata": {},
   "source": [
    "After looking at the results, some triangles appeared to refer to un-linked vertices. Here I detect these faces and remove them."
   ]
  },
  {
   "cell_type": "code",
   "execution_count": 84,
   "metadata": {},
   "outputs": [],
   "source": [
    "fw = []\n",
    "for f in ff:\n",
    "    if lut[f[0],0] > -1 and lut[f[1],0] > -1 and lut[f[2],0] > -1:\n",
    "        fw.append(f)\n",
    "fw=np.array(fw);"
   ]
  },
  {
   "cell_type": "markdown",
   "metadata": {},
   "source": [
    "Finally, I reconstruct the whole brain 3-D mesh by pooling together vertices from the left and right hemispheres. The result is saved as a ply mesh."
   ]
  },
  {
   "cell_type": "code",
   "execution_count": 85,
   "metadata": {},
   "outputs": [],
   "source": [
    "vw = np.zeros(vf.shape)\n",
    "\n",
    "for i in range(len(vf)):\n",
    "    hem = lut[i,1]\n",
    "    ind = lut[i,0]\n",
    "    if hem == 1:\n",
    "        vw[i,:] = vl[ind,:]\n",
    "    elif hem ==2:\n",
    "        vw[i,:] = vr[ind,:]"
   ]
  },
  {
   "cell_type": "code",
   "execution_count": 88,
   "metadata": {},
   "outputs": [
    {
     "data": {
      "text/plain": [
       "True"
      ]
     },
     "execution_count": 88,
     "metadata": {},
     "output_type": "execute_result"
    }
   ],
   "source": [
    "igl.write_triangle_mesh(\"lrh.ply\",vw,fw)"
   ]
  },
  {
   "cell_type": "code",
   "execution_count": null,
   "metadata": {},
   "outputs": [],
   "source": []
  }
 ],
 "metadata": {
  "kernelspec": {
   "display_name": "Python 3",
   "language": "python",
   "name": "python3"
  },
  "language_info": {
   "codemirror_mode": {
    "name": "ipython",
    "version": 3
   },
   "file_extension": ".py",
   "mimetype": "text/x-python",
   "name": "python",
   "nbconvert_exporter": "python",
   "pygments_lexer": "ipython3",
   "version": "3.7.5"
  }
 },
 "nbformat": 4,
 "nbformat_minor": 2
}
